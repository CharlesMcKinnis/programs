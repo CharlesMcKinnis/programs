{
 "cells": [
  {
   "cell_type": "markdown",
   "metadata": {},
   "source": [
    "> **Tip**: Welcome to the Investigate a Dataset project! You will find tips in quoted sections like this to help organize your approach to your investigation. Before submitting your project, it will be a good idea to go back through your report and remove these sections to make the presentation of your work as tidy as possible. First things first, you might want to double-click this Markdown cell and change the title so that it reflects your dataset and investigation.\n",
    "\n",
    "# Project: Investigate a Dataset (Replace this with something more specific!)\n",
    "\n",
    "## Table of Contents\n",
    "<ul>\n",
    "<li><a href=\"#intro\">Introduction</a></li>\n",
    "<li><a href=\"#wrangling\">Data Wrangling</a></li>\n",
    "<li><a href=\"#eda\">Exploratory Data Analysis</a></li>\n",
    "<li><a href=\"#conclusions\">Conclusions</a></li>\n",
    "</ul>"
   ]
  },
  {
   "cell_type": "markdown",
   "metadata": {},
   "source": [
    "<a id='intro'></a>\n",
    "## Introduction\n",
    "\n",
    "> **Tip**: In this section of the report, provide a brief introduction to the dataset you've selected for analysis. At the end of this section, describe the questions that you plan on exploring over the course of the report. Try to build your report around the analysis of at least one dependent variable and three independent variables. If you're not sure what questions to ask, then make sure you familiarize yourself with the dataset, its variables and the dataset context for ideas of what to explore.\n",
    "\n",
    "> If you haven't yet selected and downloaded your data, make sure you do that first before coming back here. In order to work with the data in this workspace, you also need to upload it to the workspace. To do so, click on the jupyter icon in the upper left to be taken back to the workspace directory. There should be an 'Upload' button in the upper right that will let you add your data file(s) to the workspace. You can then click on the .ipynb file name to come back here."
   ]
  },
  {
   "cell_type": "code",
   "execution_count": 1,
   "metadata": {},
   "outputs": [
    {
     "name": "stdout",
     "output_type": "stream",
     "text": [
      "Populating the interactive namespace from numpy and matplotlib\n"
     ]
    }
   ],
   "source": [
    "# Use this cell to set up import statements for all of the packages that you\n",
    "#   plan to use.\n",
    "\n",
    "# Remember to include a 'magic word' so that your visualizations are plotted\n",
    "#   inline with the notebook. See this page for more:\n",
    "#   http://ipython.readthedocs.io/en/stable/interactive/magics.html\n",
    "\n",
    "\n",
    "import matplotlib.pyplot as plt\n",
    "import numpy as np\n",
    "import pandas as pd\n",
    "import seaborn as sns\n",
    "%matplotlib inline\n",
    "%pylab inline"
   ]
  },
  {
   "cell_type": "markdown",
   "metadata": {},
   "source": [
    "<a id='wrangling'></a>\n",
    "## Data Wrangling\n",
    "\n",
    "> **Tip**: In this section of the report, you will load in the data, check for cleanliness, and then trim and clean your dataset for analysis. Make sure that you document your steps carefully and justify your cleaning decisions.\n",
    "\n",
    "### General Properties"
   ]
  },
  {
   "cell_type": "code",
   "execution_count": 2,
   "metadata": {},
   "outputs": [],
   "source": [
    "# Load your data and print out a few lines. Perform operations to inspect data\n",
    "#types and look for instances of missing or possibly errant data.\n",
    "#convert release date to a datetime data type and budget/revenue to int64 to show all numbers.\n",
    "\n",
    "tmdb_db = pd.read_csv('tmdb-movies.csv')\n",
    "convert_data=['budget_adj', 'revenue_adj']\n",
    "tmdb_db['release_date'] = pd.to_datetime(tmdb_db['release_date']) \n",
    "tmdb_db[convert_data]=tmdb_db[convert_data].applymap(np.int64)\n",
    "tmdb_db['genres'].astype(str)\n",
    "tmdb_db.dropna(how = 'any',inplace = True)"
   ]
  },
  {
   "cell_type": "markdown",
   "metadata": {},
   "source": [
    "<h1> Question no 2 : Most famous director and his/her best 3 movies </h1>"
   ]
  },
  {
   "cell_type": "code",
   "execution_count": 3,
   "metadata": {},
   "outputs": [],
   "source": [
    "#Creating groupby object\n",
    "\n",
    "director_gb = tmdb_db.groupby('director')"
   ]
  },
  {
   "cell_type": "code",
   "execution_count": 4,
   "metadata": {
    "scrolled": false
   },
   "outputs": [
    {
     "data": {
      "text/html": [
       "<div>\n",
       "<style scoped>\n",
       "    .dataframe tbody tr th:only-of-type {\n",
       "        vertical-align: middle;\n",
       "    }\n",
       "\n",
       "    .dataframe tbody tr th {\n",
       "        vertical-align: top;\n",
       "    }\n",
       "\n",
       "    .dataframe thead th {\n",
       "        text-align: right;\n",
       "    }\n",
       "</style>\n",
       "<table border=\"1\" class=\"dataframe\">\n",
       "  <thead>\n",
       "    <tr style=\"text-align: right;\">\n",
       "      <th></th>\n",
       "      <th>id</th>\n",
       "      <th>popularity</th>\n",
       "      <th>budget</th>\n",
       "      <th>revenue</th>\n",
       "      <th>runtime</th>\n",
       "      <th>vote_count</th>\n",
       "      <th>vote_average</th>\n",
       "      <th>release_year</th>\n",
       "      <th>budget_adj</th>\n",
       "      <th>revenue_adj</th>\n",
       "    </tr>\n",
       "    <tr>\n",
       "      <th>director</th>\n",
       "      <th></th>\n",
       "      <th></th>\n",
       "      <th></th>\n",
       "      <th></th>\n",
       "      <th></th>\n",
       "      <th></th>\n",
       "      <th></th>\n",
       "      <th></th>\n",
       "      <th></th>\n",
       "      <th></th>\n",
       "    </tr>\n",
       "  </thead>\n",
       "  <tbody>\n",
       "    <tr>\n",
       "      <td>Christopher Nolan</td>\n",
       "      <td>235195</td>\n",
       "      <td>60.449268</td>\n",
       "      <td>959000000</td>\n",
       "      <td>4053833672</td>\n",
       "      <td>1017</td>\n",
       "      <td>40997</td>\n",
       "      <td>54.5</td>\n",
       "      <td>14055</td>\n",
       "      <td>958929508</td>\n",
       "      <td>4026409815</td>\n",
       "    </tr>\n",
       "    <tr>\n",
       "      <td>Peter Jackson</td>\n",
       "      <td>238493</td>\n",
       "      <td>45.005375</td>\n",
       "      <td>1086000000</td>\n",
       "      <td>5943642820</td>\n",
       "      <td>1267</td>\n",
       "      <td>30057</td>\n",
       "      <td>58.3</td>\n",
       "      <td>16048</td>\n",
       "      <td>1096858947</td>\n",
       "      <td>6364545288</td>\n",
       "    </tr>\n",
       "    <tr>\n",
       "      <td>Colin Trevorrow</td>\n",
       "      <td>135397</td>\n",
       "      <td>32.985763</td>\n",
       "      <td>150000000</td>\n",
       "      <td>1513528810</td>\n",
       "      <td>124</td>\n",
       "      <td>5562</td>\n",
       "      <td>6.5</td>\n",
       "      <td>2015</td>\n",
       "      <td>137999939</td>\n",
       "      <td>1392445892</td>\n",
       "    </tr>\n",
       "    <tr>\n",
       "      <td>Ridley Scott</td>\n",
       "      <td>532204</td>\n",
       "      <td>30.297828</td>\n",
       "      <td>847000000</td>\n",
       "      <td>2193060497</td>\n",
       "      <td>1093</td>\n",
       "      <td>16829</td>\n",
       "      <td>54.5</td>\n",
       "      <td>16024</td>\n",
       "      <td>898419625</td>\n",
       "      <td>2394074073</td>\n",
       "    </tr>\n",
       "    <tr>\n",
       "      <td>Steven Spielberg</td>\n",
       "      <td>77794</td>\n",
       "      <td>29.388996</td>\n",
       "      <td>637500000</td>\n",
       "      <td>5257606337</td>\n",
       "      <td>1424</td>\n",
       "      <td>20045</td>\n",
       "      <td>77.9</td>\n",
       "      <td>21931</td>\n",
       "      <td>813400092</td>\n",
       "      <td>9623371538</td>\n",
       "    </tr>\n",
       "  </tbody>\n",
       "</table>\n",
       "</div>"
      ],
      "text/plain": [
       "                       id  popularity      budget     revenue  runtime  \\\n",
       "director                                                                 \n",
       "Christopher Nolan  235195   60.449268   959000000  4053833672     1017   \n",
       "Peter Jackson      238493   45.005375  1086000000  5943642820     1267   \n",
       "Colin Trevorrow    135397   32.985763   150000000  1513528810      124   \n",
       "Ridley Scott       532204   30.297828   847000000  2193060497     1093   \n",
       "Steven Spielberg    77794   29.388996   637500000  5257606337     1424   \n",
       "\n",
       "                   vote_count  vote_average  release_year  budget_adj  \\\n",
       "director                                                                \n",
       "Christopher Nolan       40997          54.5         14055   958929508   \n",
       "Peter Jackson           30057          58.3         16048  1096858947   \n",
       "Colin Trevorrow          5562           6.5          2015   137999939   \n",
       "Ridley Scott            16829          54.5         16024   898419625   \n",
       "Steven Spielberg        20045          77.9         21931   813400092   \n",
       "\n",
       "                   revenue_adj  \n",
       "director                        \n",
       "Christopher Nolan   4026409815  \n",
       "Peter Jackson       6364545288  \n",
       "Colin Trevorrow     1392445892  \n",
       "Ridley Scott        2394074073  \n",
       "Steven Spielberg    9623371538  "
      ]
     },
     "execution_count": 4,
     "metadata": {},
     "output_type": "execute_result"
    }
   ],
   "source": [
    "# here we get most popular director : Christopher Nolan => according to popularity column\n",
    "\n",
    "director_gb.sum().sort_values('popularity',ascending = False).head(5)"
   ]
  },
  {
   "cell_type": "code",
   "execution_count": 29,
   "metadata": {},
   "outputs": [],
   "source": [
    "# Here we acheive the top 3 movies of christofer nolan [ the most famous director ]\n",
    "#top sorting based on vote average. you can try popularity also ( just replace 'vote_average' with 'popularity' in sort_values function)\n",
    "\n",
    "movie_data = director_gb.get_group('Christopher Nolan').sort_values('vote_average',ascending = False).head(3)[['original_title','genres','popularity','vote_average']].reset_index()"
   ]
  },
  {
   "cell_type": "code",
   "execution_count": 30,
   "metadata": {},
   "outputs": [
    {
     "data": {
      "text/html": [
       "<div>\n",
       "<style scoped>\n",
       "    .dataframe tbody tr th:only-of-type {\n",
       "        vertical-align: middle;\n",
       "    }\n",
       "\n",
       "    .dataframe tbody tr th {\n",
       "        vertical-align: top;\n",
       "    }\n",
       "\n",
       "    .dataframe thead th {\n",
       "        text-align: right;\n",
       "    }\n",
       "</style>\n",
       "<table border=\"1\" class=\"dataframe\">\n",
       "  <thead>\n",
       "    <tr style=\"text-align: right;\">\n",
       "      <th></th>\n",
       "      <th>index</th>\n",
       "      <th>original_title</th>\n",
       "      <th>genres</th>\n",
       "      <th>popularity</th>\n",
       "      <th>vote_average</th>\n",
       "    </tr>\n",
       "  </thead>\n",
       "  <tbody>\n",
       "    <tr>\n",
       "      <td>0</td>\n",
       "      <td>2875</td>\n",
       "      <td>The Dark Knight</td>\n",
       "      <td>Drama|Action|Crime|Thriller</td>\n",
       "      <td>8.466668</td>\n",
       "      <td>8.1</td>\n",
       "    </tr>\n",
       "    <tr>\n",
       "      <td>1</td>\n",
       "      <td>629</td>\n",
       "      <td>Interstellar</td>\n",
       "      <td>Adventure|Drama|Science Fiction</td>\n",
       "      <td>24.949134</td>\n",
       "      <td>8.0</td>\n",
       "    </tr>\n",
       "    <tr>\n",
       "      <td>2</td>\n",
       "      <td>1919</td>\n",
       "      <td>Inception</td>\n",
       "      <td>Action|Thriller|Science Fiction|Mystery|Adventure</td>\n",
       "      <td>9.363643</td>\n",
       "      <td>7.9</td>\n",
       "    </tr>\n",
       "  </tbody>\n",
       "</table>\n",
       "</div>"
      ],
      "text/plain": [
       "   index   original_title                                             genres  \\\n",
       "0   2875  The Dark Knight                        Drama|Action|Crime|Thriller   \n",
       "1    629     Interstellar                    Adventure|Drama|Science Fiction   \n",
       "2   1919        Inception  Action|Thriller|Science Fiction|Mystery|Adventure   \n",
       "\n",
       "   popularity  vote_average  \n",
       "0    8.466668           8.1  \n",
       "1   24.949134           8.0  \n",
       "2    9.363643           7.9  "
      ]
     },
     "execution_count": 30,
     "metadata": {},
     "output_type": "execute_result"
    }
   ],
   "source": [
    "movie_data"
   ]
  },
  {
   "cell_type": "code",
   "execution_count": 31,
   "metadata": {},
   "outputs": [
    {
     "data": {
      "text/plain": [
       "[Text(0, 0, 'The Dark Knight'),\n",
       " Text(0, 0, 'Interstellar'),\n",
       " Text(0, 0, 'Inception')]"
      ]
     },
     "execution_count": 31,
     "metadata": {},
     "output_type": "execute_result"
    },
    {
     "data": {
      "image/png": "[encoded data removed]",
      "text/plain": [
       "<Figure size 432x288 with 1 Axes>"
      ]
     },
     "metadata": {
      "needs_background": "light"
     },
     "output_type": "display_data"
    }
   ],
   "source": [
    "ax = movie_data[['original_title', 'vote_average',]].plot(kind = 'bar')\n",
    "ax.grid()\n",
    "ax.set_ylim(7.75,8.25)\n",
    "ax.set_xticklabels(movie_data['original_title'])"
   ]
  },
  {
   "cell_type": "code",
   "execution_count": 19,
   "metadata": {},
   "outputs": [
    {
     "data": {
      "text/plain": [
       "[Text(0, 0, 'Interstellar'),\n",
       " Text(0, 0, 'Inception'),\n",
       " Text(0, 0, 'The Dark Knight')]"
      ]
     },
     "execution_count": 19,
     "metadata": {},
     "output_type": "execute_result"
    },
    {
     "data": {
      "image/png": "[encoded data removed]",
      "text/plain": [
       "<Figure size 432x288 with 1 Axes>"
      ]
     },
     "metadata": {
      "needs_background": "light"
     },
     "output_type": "display_data"
    }
   ],
   "source": [
    "ax = movie_data[['original_title', 'popularity',]].sort_values('popularity',ascending = False).plot(kind = 'bar')\n",
    "ax.grid()\n",
    "ax.set_xticklabels(movie_data.sort_values('popularity',ascending = False)['original_title'])"
   ]
  },
  {
   "cell_type": "code",
   "execution_count": 83,
   "metadata": {},
   "outputs": [
    {
     "data": {
      "text/plain": [
       "[Text(0, 0, 'Inside Out'),\n",
       " Text(0, 0, 'The Wolf of Wall Street'),\n",
       " Text(0, 0, 'Partly Cloudy'),\n",
       " Text(0, 0, 'Big Hero 6'),\n",
       " Text(0, 0, 'Back to the Future')]"
      ]
     },
     "execution_count": 83,
     "metadata": {},
     "output_type": "execute_result"
    },
    {
     "data": {
      "image/png": "[encoded data removed]",
      "text/plain": [
       "<Figure size 432x288 with 1 Axes>"
      ]
     },
     "metadata": {
      "needs_background": "light"
     },
     "output_type": "display_data"
    }
   ],
   "source": [
    "ax = tmdb_db[tmdb_db.mask].sort_values('vote_average',ascending = False).head(5)[['original_title','vote_average','popularity']].plot(kind='bar')\n",
    "ax.grid()\n",
    "ax.set_xticklabels(tmdb_db[tmdb_db.mask].sort_values('vote_average',ascending = False).head(5)['original_title'])"
   ]
  },
  {
   "cell_type": "markdown",
   "metadata": {},
   "source": [
    "<h1> Question no 1 : top 5 comedy movies </h1>"
   ]
  },
  {
   "cell_type": "code",
   "execution_count": 33,
   "metadata": {},
   "outputs": [
    {
     "data": {
      "text/plain": [
       "['Drama', 'Action', 'Crime', 'Thriller']"
      ]
     },
     "execution_count": 33,
     "metadata": {},
     "output_type": "execute_result"
    }
   ],
   "source": [
    "def split_str(string):\n",
    "    return string.split('|')\n",
    "\n",
    "split_str('Drama|Action|Crime|Thriller')"
   ]
  },
  {
   "cell_type": "code",
   "execution_count": 34,
   "metadata": {},
   "outputs": [],
   "source": [
    "#using split to break '|' seperated srtring to list.\n",
    "\n",
    "tmdb_db.genres = tmdb_db.genres.apply(lambda x : split_str(x))\n"
   ]
  },
  {
   "cell_type": "code",
   "execution_count": 35,
   "metadata": {},
   "outputs": [],
   "source": [
    "#Creating a binary mask for cemedy movies\n",
    "\n",
    "tmdb_db.mask = tmdb_db.genres.copy()\n",
    "tmdb_db.mask = tmdb_db.mask.apply(lambda x : 'Comedy' in x)"
   ]
  },
  {
   "cell_type": "code",
   "execution_count": 80,
   "metadata": {
    "scrolled": true
   },
   "outputs": [
    {
     "data": {
      "text/html": [
       "<div>\n",
       "<style scoped>\n",
       "    .dataframe tbody tr th:only-of-type {\n",
       "        vertical-align: middle;\n",
       "    }\n",
       "\n",
       "    .dataframe tbody tr th {\n",
       "        vertical-align: top;\n",
       "    }\n",
       "\n",
       "    .dataframe thead th {\n",
       "        text-align: right;\n",
       "    }\n",
       "</style>\n",
       "<table border=\"1\" class=\"dataframe\">\n",
       "  <thead>\n",
       "    <tr style=\"text-align: right;\">\n",
       "      <th></th>\n",
       "      <th>id</th>\n",
       "      <th>imdb_id</th>\n",
       "      <th>popularity</th>\n",
       "      <th>budget</th>\n",
       "      <th>revenue</th>\n",
       "      <th>original_title</th>\n",
       "      <th>cast</th>\n",
       "      <th>homepage</th>\n",
       "      <th>director</th>\n",
       "      <th>tagline</th>\n",
       "      <th>...</th>\n",
       "      <th>overview</th>\n",
       "      <th>runtime</th>\n",
       "      <th>genres</th>\n",
       "      <th>production_companies</th>\n",
       "      <th>release_date</th>\n",
       "      <th>vote_count</th>\n",
       "      <th>vote_average</th>\n",
       "      <th>release_year</th>\n",
       "      <th>budget_adj</th>\n",
       "      <th>revenue_adj</th>\n",
       "    </tr>\n",
       "  </thead>\n",
       "  <tbody>\n",
       "    <tr>\n",
       "      <td>8</td>\n",
       "      <td>211672</td>\n",
       "      <td>tt2293640</td>\n",
       "      <td>7.404165</td>\n",
       "      <td>74000000</td>\n",
       "      <td>1156730962</td>\n",
       "      <td>Minions</td>\n",
       "      <td>Sandra Bullock|Jon Hamm|Michael Keaton|Allison...</td>\n",
       "      <td>http://www.minionsmovie.com/</td>\n",
       "      <td>Kyle Balda|Pierre Coffin</td>\n",
       "      <td>Before Gru, they had a history of bad bosses</td>\n",
       "      <td>...</td>\n",
       "      <td>Minions Stuart, Kevin and Bob are recruited by...</td>\n",
       "      <td>91</td>\n",
       "      <td>[Family, Animation, Adventure, Comedy]</td>\n",
       "      <td>Universal Pictures|Illumination Entertainment</td>\n",
       "      <td>2015-06-17</td>\n",
       "      <td>2893</td>\n",
       "      <td>6.5</td>\n",
       "      <td>2015</td>\n",
       "      <td>68079970</td>\n",
       "      <td>1064192016</td>\n",
       "    </tr>\n",
       "    <tr>\n",
       "      <td>9</td>\n",
       "      <td>150540</td>\n",
       "      <td>tt2096673</td>\n",
       "      <td>6.326804</td>\n",
       "      <td>175000000</td>\n",
       "      <td>853708609</td>\n",
       "      <td>Inside Out</td>\n",
       "      <td>Amy Poehler|Phyllis Smith|Richard Kind|Bill Ha...</td>\n",
       "      <td>http://movies.disney.com/inside-out</td>\n",
       "      <td>Pete Docter</td>\n",
       "      <td>Meet the little voices inside your head.</td>\n",
       "      <td>...</td>\n",
       "      <td>Growing up can be a bumpy road, and it's no ex...</td>\n",
       "      <td>94</td>\n",
       "      <td>[Comedy, Animation, Family]</td>\n",
       "      <td>Walt Disney Pictures|Pixar Animation Studios|W...</td>\n",
       "      <td>2015-06-09</td>\n",
       "      <td>3935</td>\n",
       "      <td>8.0</td>\n",
       "      <td>2015</td>\n",
       "      <td>160999929</td>\n",
       "      <td>785411574</td>\n",
       "    </tr>\n",
       "    <tr>\n",
       "      <td>13</td>\n",
       "      <td>257344</td>\n",
       "      <td>tt2120120</td>\n",
       "      <td>5.984995</td>\n",
       "      <td>88000000</td>\n",
       "      <td>243637091</td>\n",
       "      <td>Pixels</td>\n",
       "      <td>Adam Sandler|Michelle Monaghan|Peter Dinklage|...</td>\n",
       "      <td>http://www.pixels-movie.com/</td>\n",
       "      <td>Chris Columbus</td>\n",
       "      <td>Game On.</td>\n",
       "      <td>...</td>\n",
       "      <td>Video game experts are recruited by the milita...</td>\n",
       "      <td>105</td>\n",
       "      <td>[Action, Comedy, Science Fiction]</td>\n",
       "      <td>Columbia Pictures|Happy Madison Productions</td>\n",
       "      <td>2015-07-16</td>\n",
       "      <td>1575</td>\n",
       "      <td>5.8</td>\n",
       "      <td>2015</td>\n",
       "      <td>80959964</td>\n",
       "      <td>224146025</td>\n",
       "    </tr>\n",
       "    <tr>\n",
       "      <td>24</td>\n",
       "      <td>318846</td>\n",
       "      <td>tt1596363</td>\n",
       "      <td>4.648046</td>\n",
       "      <td>28000000</td>\n",
       "      <td>133346506</td>\n",
       "      <td>The Big Short</td>\n",
       "      <td>Christian Bale|Steve Carell|Ryan Gosling|Brad ...</td>\n",
       "      <td>http://www.thebigshortmovie.com/</td>\n",
       "      <td>Adam McKay</td>\n",
       "      <td>This is a true story.</td>\n",
       "      <td>...</td>\n",
       "      <td>The men who made millions from a global econom...</td>\n",
       "      <td>130</td>\n",
       "      <td>[Comedy, Drama]</td>\n",
       "      <td>Paramount Pictures|Plan B Entertainment|Regenc...</td>\n",
       "      <td>2015-12-11</td>\n",
       "      <td>1545</td>\n",
       "      <td>7.3</td>\n",
       "      <td>2015</td>\n",
       "      <td>25759988</td>\n",
       "      <td>122678731</td>\n",
       "    </tr>\n",
       "    <tr>\n",
       "      <td>27</td>\n",
       "      <td>207703</td>\n",
       "      <td>tt2802144</td>\n",
       "      <td>4.503789</td>\n",
       "      <td>81000000</td>\n",
       "      <td>403802136</td>\n",
       "      <td>Kingsman: The Secret Service</td>\n",
       "      <td>Taron Egerton|Colin Firth|Samuel L. Jackson|Mi...</td>\n",
       "      <td>http://www.kingsmanmovie.com/</td>\n",
       "      <td>Matthew Vaughn</td>\n",
       "      <td>Manners maketh man.</td>\n",
       "      <td>...</td>\n",
       "      <td>The story of a super-secret spy organization t...</td>\n",
       "      <td>130</td>\n",
       "      <td>[Crime, Comedy, Action, Adventure]</td>\n",
       "      <td>Twentieth Century Fox Film Corporation|Marv Fi...</td>\n",
       "      <td>2015-01-24</td>\n",
       "      <td>3833</td>\n",
       "      <td>7.6</td>\n",
       "      <td>2015</td>\n",
       "      <td>74519967</td>\n",
       "      <td>371497801</td>\n",
       "    </tr>\n",
       "    <tr>\n",
       "      <td>...</td>\n",
       "      <td>...</td>\n",
       "      <td>...</td>\n",
       "      <td>...</td>\n",
       "      <td>...</td>\n",
       "      <td>...</td>\n",
       "      <td>...</td>\n",
       "      <td>...</td>\n",
       "      <td>...</td>\n",
       "      <td>...</td>\n",
       "      <td>...</td>\n",
       "      <td>...</td>\n",
       "      <td>...</td>\n",
       "      <td>...</td>\n",
       "      <td>...</td>\n",
       "      <td>...</td>\n",
       "      <td>...</td>\n",
       "      <td>...</td>\n",
       "      <td>...</td>\n",
       "      <td>...</td>\n",
       "      <td>...</td>\n",
       "      <td>...</td>\n",
       "    </tr>\n",
       "    <tr>\n",
       "      <td>10372</td>\n",
       "      <td>13063</td>\n",
       "      <td>tt0115819</td>\n",
       "      <td>0.181665</td>\n",
       "      <td>125000</td>\n",
       "      <td>0</td>\n",
       "      <td>Cannibal! The Musical</td>\n",
       "      <td>Trey Parker|Dian Bachar|Ian Hardin|Jon Hegel|M...</td>\n",
       "      <td>http://www.cannibalthemusical.net/index.shtml</td>\n",
       "      <td>Trey Parker</td>\n",
       "      <td>All Singing! All Dancing! All Flesh Eating!</td>\n",
       "      <td>...</td>\n",
       "      <td>Heading through Colorado Territory in search o...</td>\n",
       "      <td>97</td>\n",
       "      <td>[Comedy, History, Horror]</td>\n",
       "      <td>Avenging Conscience|Troma Entertainment|Cannib...</td>\n",
       "      <td>1993-10-01</td>\n",
       "      <td>19</td>\n",
       "      <td>6.7</td>\n",
       "      <td>1993</td>\n",
       "      <td>188683</td>\n",
       "      <td>0</td>\n",
       "    </tr>\n",
       "    <tr>\n",
       "      <td>10489</td>\n",
       "      <td>6978</td>\n",
       "      <td>tt0090728</td>\n",
       "      <td>0.960984</td>\n",
       "      <td>25000000</td>\n",
       "      <td>11000000</td>\n",
       "      <td>Big Trouble in Little China</td>\n",
       "      <td>Kurt Russell|Kim Cattrall|Dennis Dun|James Hon...</td>\n",
       "      <td>http://www.theofficialjohncarpenter.com/big-tr...</td>\n",
       "      <td>John Carpenter</td>\n",
       "      <td>Adventure doesn't come any bigger!</td>\n",
       "      <td>...</td>\n",
       "      <td>When trucker Jack Burton agreed to take his fr...</td>\n",
       "      <td>99</td>\n",
       "      <td>[Adventure, Fantasy, Action, Comedy]</td>\n",
       "      <td>Twentieth Century Fox Film Corporation|TAFT En...</td>\n",
       "      <td>1986-05-30</td>\n",
       "      <td>347</td>\n",
       "      <td>6.7</td>\n",
       "      <td>1986</td>\n",
       "      <td>49735160</td>\n",
       "      <td>21883470</td>\n",
       "    </tr>\n",
       "    <tr>\n",
       "      <td>10657</td>\n",
       "      <td>5722</td>\n",
       "      <td>tt0065466</td>\n",
       "      <td>0.374514</td>\n",
       "      <td>0</td>\n",
       "      <td>0</td>\n",
       "      <td>Beyond the Valley of the Dolls</td>\n",
       "      <td>Dolly Read|Cynthia Myers|Marcia McBroom|John L...</td>\n",
       "      <td>http://www.beyondthevalleyofthedolls.com/home....</td>\n",
       "      <td>Russ Meyer</td>\n",
       "      <td>This Is Not A Sequel. There Has Never Been Any...</td>\n",
       "      <td>...</td>\n",
       "      <td>A hip and happenin' all girl rock group head t...</td>\n",
       "      <td>109</td>\n",
       "      <td>[Comedy, Drama, Thriller]</td>\n",
       "      <td>Twentieth Century Fox Film Corporation</td>\n",
       "      <td>1970-07-17</td>\n",
       "      <td>19</td>\n",
       "      <td>6.2</td>\n",
       "      <td>1970</td>\n",
       "      <td>0</td>\n",
       "      <td>0</td>\n",
       "    </tr>\n",
       "    <tr>\n",
       "      <td>10760</td>\n",
       "      <td>8469</td>\n",
       "      <td>tt0077975</td>\n",
       "      <td>1.157930</td>\n",
       "      <td>2700000</td>\n",
       "      <td>141000000</td>\n",
       "      <td>Animal House</td>\n",
       "      <td>John Belushi|Tim Matheson|John Vernon|Verna Bl...</td>\n",
       "      <td>http://www.animalhouse.com/</td>\n",
       "      <td>John Landis</td>\n",
       "      <td>It was the Deltas against the rules... the rul...</td>\n",
       "      <td>...</td>\n",
       "      <td>At a 1962 College, Dean Vernon Wormer is deter...</td>\n",
       "      <td>109</td>\n",
       "      <td>[Comedy]</td>\n",
       "      <td>Universal Pictures|Oregon Film Factory|Stage I...</td>\n",
       "      <td>1978-07-27</td>\n",
       "      <td>230</td>\n",
       "      <td>6.7</td>\n",
       "      <td>1978</td>\n",
       "      <td>9025291</td>\n",
       "      <td>471320797</td>\n",
       "    </tr>\n",
       "    <tr>\n",
       "      <td>10819</td>\n",
       "      <td>16214</td>\n",
       "      <td>tt0077696</td>\n",
       "      <td>0.044675</td>\n",
       "      <td>0</td>\n",
       "      <td>78000000</td>\n",
       "      <td>Hooper</td>\n",
       "      <td>Burt Reynolds|Robert Klein|Adam West|Jan-Micha...</td>\n",
       "      <td>http://en.wikipedia.org/wiki/Hooper_(film)</td>\n",
       "      <td>Hal Needham</td>\n",
       "      <td>The greatest stuntman alive!</td>\n",
       "      <td>...</td>\n",
       "      <td>Burt Reynolds plays a legendary stunt man know...</td>\n",
       "      <td>107</td>\n",
       "      <td>[Action, Comedy]</td>\n",
       "      <td>Warner Bros.</td>\n",
       "      <td>1978-07-28</td>\n",
       "      <td>13</td>\n",
       "      <td>6.0</td>\n",
       "      <td>1978</td>\n",
       "      <td>0</td>\n",
       "      <td>260730654</td>\n",
       "    </tr>\n",
       "  </tbody>\n",
       "</table>\n",
       "<p>640 rows × 21 columns</p>\n",
       "</div>"
      ],
      "text/plain": [
       "           id    imdb_id  popularity     budget     revenue  \\\n",
       "8      211672  tt2293640    7.404165   74000000  1156730962   \n",
       "9      150540  tt2096673    6.326804  175000000   853708609   \n",
       "13     257344  tt2120120    5.984995   88000000   243637091   \n",
       "24     318846  tt1596363    4.648046   28000000   133346506   \n",
       "27     207703  tt2802144    4.503789   81000000   403802136   \n",
       "...       ...        ...         ...        ...         ...   \n",
       "10372   13063  tt0115819    0.181665     125000           0   \n",
       "10489    6978  tt0090728    0.960984   25000000    11000000   \n",
       "10657    5722  tt0065466    0.374514          0           0   \n",
       "10760    8469  tt0077975    1.157930    2700000   141000000   \n",
       "10819   16214  tt0077696    0.044675          0    78000000   \n",
       "\n",
       "                       original_title  \\\n",
       "8                             Minions   \n",
       "9                          Inside Out   \n",
       "13                             Pixels   \n",
       "24                      The Big Short   \n",
       "27       Kingsman: The Secret Service   \n",
       "...                               ...   \n",
       "10372           Cannibal! The Musical   \n",
       "10489     Big Trouble in Little China   \n",
       "10657  Beyond the Valley of the Dolls   \n",
       "10760                    Animal House   \n",
       "10819                          Hooper   \n",
       "\n",
       "                                                    cast  \\\n",
       "8      Sandra Bullock|Jon Hamm|Michael Keaton|Allison...   \n",
       "9      Amy Poehler|Phyllis Smith|Richard Kind|Bill Ha...   \n",
       "13     Adam Sandler|Michelle Monaghan|Peter Dinklage|...   \n",
       "24     Christian Bale|Steve Carell|Ryan Gosling|Brad ...   \n",
       "27     Taron Egerton|Colin Firth|Samuel L. Jackson|Mi...   \n",
       "...                                                  ...   \n",
       "10372  Trey Parker|Dian Bachar|Ian Hardin|Jon Hegel|M...   \n",
       "10489  Kurt Russell|Kim Cattrall|Dennis Dun|James Hon...   \n",
       "10657  Dolly Read|Cynthia Myers|Marcia McBroom|John L...   \n",
       "10760  John Belushi|Tim Matheson|John Vernon|Verna Bl...   \n",
       "10819  Burt Reynolds|Robert Klein|Adam West|Jan-Micha...   \n",
       "\n",
       "                                                homepage  \\\n",
       "8                           http://www.minionsmovie.com/   \n",
       "9                    http://movies.disney.com/inside-out   \n",
       "13                          http://www.pixels-movie.com/   \n",
       "24                      http://www.thebigshortmovie.com/   \n",
       "27                         http://www.kingsmanmovie.com/   \n",
       "...                                                  ...   \n",
       "10372      http://www.cannibalthemusical.net/index.shtml   \n",
       "10489  http://www.theofficialjohncarpenter.com/big-tr...   \n",
       "10657  http://www.beyondthevalleyofthedolls.com/home....   \n",
       "10760                        http://www.animalhouse.com/   \n",
       "10819         http://en.wikipedia.org/wiki/Hooper_(film)   \n",
       "\n",
       "                       director  \\\n",
       "8      Kyle Balda|Pierre Coffin   \n",
       "9                   Pete Docter   \n",
       "13               Chris Columbus   \n",
       "24                   Adam McKay   \n",
       "27               Matthew Vaughn   \n",
       "...                         ...   \n",
       "10372               Trey Parker   \n",
       "10489            John Carpenter   \n",
       "10657                Russ Meyer   \n",
       "10760               John Landis   \n",
       "10819               Hal Needham   \n",
       "\n",
       "                                                 tagline  ...  \\\n",
       "8           Before Gru, they had a history of bad bosses  ...   \n",
       "9               Meet the little voices inside your head.  ...   \n",
       "13                                              Game On.  ...   \n",
       "24                                 This is a true story.  ...   \n",
       "27                                   Manners maketh man.  ...   \n",
       "...                                                  ...  ...   \n",
       "10372        All Singing! All Dancing! All Flesh Eating!  ...   \n",
       "10489                 Adventure doesn't come any bigger!  ...   \n",
       "10657  This Is Not A Sequel. There Has Never Been Any...  ...   \n",
       "10760  It was the Deltas against the rules... the rul...  ...   \n",
       "10819                       The greatest stuntman alive!  ...   \n",
       "\n",
       "                                                overview runtime  \\\n",
       "8      Minions Stuart, Kevin and Bob are recruited by...      91   \n",
       "9      Growing up can be a bumpy road, and it's no ex...      94   \n",
       "13     Video game experts are recruited by the milita...     105   \n",
       "24     The men who made millions from a global econom...     130   \n",
       "27     The story of a super-secret spy organization t...     130   \n",
       "...                                                  ...     ...   \n",
       "10372  Heading through Colorado Territory in search o...      97   \n",
       "10489  When trucker Jack Burton agreed to take his fr...      99   \n",
       "10657  A hip and happenin' all girl rock group head t...     109   \n",
       "10760  At a 1962 College, Dean Vernon Wormer is deter...     109   \n",
       "10819  Burt Reynolds plays a legendary stunt man know...     107   \n",
       "\n",
       "                                       genres  \\\n",
       "8      [Family, Animation, Adventure, Comedy]   \n",
       "9                 [Comedy, Animation, Family]   \n",
       "13          [Action, Comedy, Science Fiction]   \n",
       "24                            [Comedy, Drama]   \n",
       "27         [Crime, Comedy, Action, Adventure]   \n",
       "...                                       ...   \n",
       "10372               [Comedy, History, Horror]   \n",
       "10489    [Adventure, Fantasy, Action, Comedy]   \n",
       "10657               [Comedy, Drama, Thriller]   \n",
       "10760                                [Comedy]   \n",
       "10819                        [Action, Comedy]   \n",
       "\n",
       "                                    production_companies release_date  \\\n",
       "8          Universal Pictures|Illumination Entertainment   2015-06-17   \n",
       "9      Walt Disney Pictures|Pixar Animation Studios|W...   2015-06-09   \n",
       "13           Columbia Pictures|Happy Madison Productions   2015-07-16   \n",
       "24     Paramount Pictures|Plan B Entertainment|Regenc...   2015-12-11   \n",
       "27     Twentieth Century Fox Film Corporation|Marv Fi...   2015-01-24   \n",
       "...                                                  ...          ...   \n",
       "10372  Avenging Conscience|Troma Entertainment|Cannib...   1993-10-01   \n",
       "10489  Twentieth Century Fox Film Corporation|TAFT En...   1986-05-30   \n",
       "10657             Twentieth Century Fox Film Corporation   1970-07-17   \n",
       "10760  Universal Pictures|Oregon Film Factory|Stage I...   1978-07-27   \n",
       "10819                                       Warner Bros.   1978-07-28   \n",
       "\n",
       "      vote_count  vote_average  release_year  budget_adj  revenue_adj  \n",
       "8           2893           6.5          2015    68079970   1064192016  \n",
       "9           3935           8.0          2015   160999929    785411574  \n",
       "13          1575           5.8          2015    80959964    224146025  \n",
       "24          1545           7.3          2015    25759988    122678731  \n",
       "27          3833           7.6          2015    74519967    371497801  \n",
       "...          ...           ...           ...         ...          ...  \n",
       "10372         19           6.7          1993      188683            0  \n",
       "10489        347           6.7          1986    49735160     21883470  \n",
       "10657         19           6.2          1970           0            0  \n",
       "10760        230           6.7          1978     9025291    471320797  \n",
       "10819         13           6.0          1978           0    260730654  \n",
       "\n",
       "[640 rows x 21 columns]"
      ]
     },
     "execution_count": 80,
     "metadata": {},
     "output_type": "execute_result"
    }
   ],
   "source": [
    "#dataframe of all comedy movies\n",
    "\n",
    "tmdb_db[tmdb_db.mask]"
   ]
  },
  {
   "cell_type": "code",
   "execution_count": 81,
   "metadata": {},
   "outputs": [
    {
     "data": {
      "text/html": [
       "<div>\n",
       "<style scoped>\n",
       "    .dataframe tbody tr th:only-of-type {\n",
       "        vertical-align: middle;\n",
       "    }\n",
       "\n",
       "    .dataframe tbody tr th {\n",
       "        vertical-align: top;\n",
       "    }\n",
       "\n",
       "    .dataframe thead th {\n",
       "        text-align: right;\n",
       "    }\n",
       "</style>\n",
       "<table border=\"1\" class=\"dataframe\">\n",
       "  <thead>\n",
       "    <tr style=\"text-align: right;\">\n",
       "      <th></th>\n",
       "      <th>index</th>\n",
       "      <th>original_title</th>\n",
       "      <th>director</th>\n",
       "      <th>genres</th>\n",
       "      <th>vote_average</th>\n",
       "    </tr>\n",
       "  </thead>\n",
       "  <tbody>\n",
       "    <tr>\n",
       "      <td>0</td>\n",
       "      <td>9</td>\n",
       "      <td>Inside Out</td>\n",
       "      <td>Pete Docter</td>\n",
       "      <td>[Comedy, Animation, Family]</td>\n",
       "      <td>8.0</td>\n",
       "    </tr>\n",
       "    <tr>\n",
       "      <td>1</td>\n",
       "      <td>5428</td>\n",
       "      <td>The Wolf of Wall Street</td>\n",
       "      <td>Martin Scorsese</td>\n",
       "      <td>[Crime, Drama, Comedy]</td>\n",
       "      <td>7.9</td>\n",
       "    </tr>\n",
       "    <tr>\n",
       "      <td>2</td>\n",
       "      <td>1661</td>\n",
       "      <td>Partly Cloudy</td>\n",
       "      <td>Peter Sohn</td>\n",
       "      <td>[Adventure, Animation, Comedy, Family, Fantasy]</td>\n",
       "      <td>7.9</td>\n",
       "    </tr>\n",
       "    <tr>\n",
       "      <td>3</td>\n",
       "      <td>635</td>\n",
       "      <td>Big Hero 6</td>\n",
       "      <td>Don Hall|Chris Williams</td>\n",
       "      <td>[Adventure, Family, Animation, Action, Comedy]</td>\n",
       "      <td>7.8</td>\n",
       "    </tr>\n",
       "    <tr>\n",
       "      <td>4</td>\n",
       "      <td>6081</td>\n",
       "      <td>Back to the Future</td>\n",
       "      <td>Robert Zemeckis</td>\n",
       "      <td>[Adventure, Comedy, Science Fiction, Family]</td>\n",
       "      <td>7.8</td>\n",
       "    </tr>\n",
       "  </tbody>\n",
       "</table>\n",
       "</div>"
      ],
      "text/plain": [
       "   index           original_title                 director  \\\n",
       "0      9               Inside Out              Pete Docter   \n",
       "1   5428  The Wolf of Wall Street          Martin Scorsese   \n",
       "2   1661            Partly Cloudy               Peter Sohn   \n",
       "3    635               Big Hero 6  Don Hall|Chris Williams   \n",
       "4   6081       Back to the Future          Robert Zemeckis   \n",
       "\n",
       "                                            genres  vote_average  \n",
       "0                      [Comedy, Animation, Family]           8.0  \n",
       "1                           [Crime, Drama, Comedy]           7.9  \n",
       "2  [Adventure, Animation, Comedy, Family, Fantasy]           7.9  \n",
       "3   [Adventure, Family, Animation, Action, Comedy]           7.8  \n",
       "4     [Adventure, Comedy, Science Fiction, Family]           7.8  "
      ]
     },
     "execution_count": 81,
     "metadata": {},
     "output_type": "execute_result"
    }
   ],
   "source": [
    "# Top 5 comedy movies based on vote average. you can try popularity also ( just replace 'vote_average' with 'popularity' in sort_values function)\n",
    "#sorted and cleaned\n",
    "\n",
    "tmdb_db[tmdb_db.mask].sort_values('vote_average',ascending = False).head(5)[['original_title','director','genres','vote_average']].reset_index()"
   ]
  },
  {
   "cell_type": "code",
   "execution_count": 44,
   "metadata": {},
   "outputs": [
    {
     "data": {
      "text/plain": [
       "[Text(0, 0, 'Inside Out'),\n",
       " Text(0, 0, 'The Wolf of Wall Street'),\n",
       " Text(0, 0, 'Partly Cloudy'),\n",
       " Text(0, 0, 'Big Hero 6'),\n",
       " Text(0, 0, 'Back to the Future')]"
      ]
     },
     "execution_count": 44,
     "metadata": {},
     "output_type": "execute_result"
    },
    {
     "data": {
      "image/png": "[encoded data removed]",
      "text/plain": [
       "<Figure size 432x288 with 1 Axes>"
      ]
     },
     "metadata": {
      "needs_background": "light"
     },
     "output_type": "display_data"
    }
   ],
   "source": [
    "ax = tmdb_db[tmdb_db.mask].sort_values('vote_average',ascending = False).head(5)[['original_title','vote_average']].plot(kind='bar')\n",
    "ax.grid()\n",
    "ax.set_ylim(7.7,8.1)\n",
    "ax.set_xticklabels(tmdb_db[tmdb_db.mask].sort_values('vote_average',ascending = False).head(5)['original_title'])"
   ]
  },
  {
   "cell_type": "code",
   "execution_count": 68,
   "metadata": {},
   "outputs": [
    {
     "data": {
      "text/plain": [
       "(6, 10)"
      ]
     },
     "execution_count": 68,
     "metadata": {},
     "output_type": "execute_result"
    },
    {
     "data": {
      "image/png": "[encoded data removed]",
      "text/plain": [
       "<Figure size 432x288 with 1 Axes>"
      ]
     },
     "metadata": {
      "needs_background": "light"
     },
     "output_type": "display_data"
    }
   ],
   "source": [
    "ax = director_gb.get_group('Christopher Nolan')[['release_date','vote_average']].set_index('release_date').plot()\n",
    "ax.grid()\n",
    "ax.set_ylim(6,10)"
   ]
  },
  {
   "cell_type": "code",
   "execution_count": 71,
   "metadata": {},
   "outputs": [
    {
     "data": {
      "text/plain": [
       "(7, 9)"
      ]
     },
     "execution_count": 71,
     "metadata": {},
     "output_type": "execute_result"
    },
    {
     "data": {
      "image/png": "[encoded data removed]",
      "text/plain": [
       "<Figure size 432x288 with 1 Axes>"
      ]
     },
     "metadata": {
      "needs_background": "light"
     },
     "output_type": "display_data"
    }
   ],
   "source": [
    "ax = director_gb.get_group('Christopher Nolan')[['release_year','vote_average']].sort_values('release_year').set_index('release_year').plot(kind = 'bar')\n",
    "ax.grid()\n",
    "ax.set_ylim(7,9)"
   ]
  },
  {
   "cell_type": "code",
   "execution_count": 78,
   "metadata": {},
   "outputs": [
    {
     "data": {
      "image/png": "[encoded data removed]",
      "text/plain": [
       "<Figure size 432x288 with 1 Axes>"
      ]
     },
     "metadata": {
      "needs_background": "light"
     },
     "output_type": "display_data"
    }
   ],
   "source": [
    "ax = director_gb.get_group('Christopher Nolan')[['release_year','vote_average','popularity']].sort_values('release_year').set_index('release_year').plot(kind = 'bar')\n",
    "ax.grid()\n",
    "#ax.set_ylim(6,10)"
   ]
  },
  {
   "cell_type": "code",
   "execution_count": null,
   "metadata": {},
   "outputs": [],
   "source": []
  },
  {
   "cell_type": "markdown",
   "metadata": {},
   "source": [
    "> **Tip**: You should _not_ perform too many operations in each cell. Create cells freely to explore your data. One option that you can take with this project is to do a lot of explorations in an initial notebook. These don't have to be organized, but make sure you use enough comments to understand the purpose of each code cell. Then, after you're done with your analysis, create a duplicate notebook where you will trim the excess and organize your steps so that you have a flowing, cohesive report.\n",
    "\n",
    "> **Tip**: Make sure that you keep your reader informed on the steps that you are taking in your investigation. Follow every code cell, or every set of related code cells, with a markdown cell to describe to the reader what was found in the preceding cell(s). Try to make it so that the reader can then understand what they will be seeing in the following cell(s).\n",
    "\n",
    "### Data Cleaning (Replace this with more specific notes!)"
   ]
  },
  {
   "cell_type": "code",
   "execution_count": 45,
   "metadata": {},
   "outputs": [
    {
     "data": {
      "text/plain": [
       "5"
      ]
     },
     "execution_count": 45,
     "metadata": {},
     "output_type": "execute_result"
    }
   ],
   "source": []
  },
  {
   "cell_type": "code",
   "execution_count": null,
   "metadata": {
    "collapsed": true
   },
   "outputs": [],
   "source": [
    "# After discussing the structure of the data and any problems that need to be\n",
    "#   cleaned, perform those cleaning steps in the second part of this section.\n"
   ]
  },
  {
   "cell_type": "markdown",
   "metadata": {},
   "source": [
    "<a id='eda'></a>\n",
    "## Exploratory Data Analysis\n",
    "\n",
    "> **Tip**: Now that you've trimmed and cleaned your data, you're ready to move on to exploration. Compute statistics and create visualizations with the goal of addressing the research questions that you posed in the Introduction section. It is recommended that you be systematic with your approach. Look at one variable at a time, and then follow it up by looking at relationships between variables.\n",
    "\n",
    "### Research Question 1 (Replace this header name!)"
   ]
  },
  {
   "cell_type": "code",
   "execution_count": null,
   "metadata": {
    "collapsed": true
   },
   "outputs": [],
   "source": [
    "# Use this, and more code cells, to explore your data. Don't forget to add\n",
    "#   Markdown cells to document your observations and findings.\n"
   ]
  },
  {
   "cell_type": "markdown",
   "metadata": {},
   "source": [
    "### Research Question 2  (Replace this header name!)"
   ]
  },
  {
   "cell_type": "code",
   "execution_count": null,
   "metadata": {
    "collapsed": true
   },
   "outputs": [],
   "source": [
    "# Continue to explore the data to address your additional research\n",
    "#   questions. Add more headers as needed if you have more questions to\n",
    "#   investigate.\n"
   ]
  },
  {
   "cell_type": "markdown",
   "metadata": {},
   "source": [
    "<a id='conclusions'></a>\n",
    "## Conclusions\n",
    "\n",
    "> **Tip**: Finally, summarize your findings and the results that have been performed. Make sure that you are clear with regards to the limitations of your exploration. If you haven't done any statistical tests, do not imply any statistical conclusions. And make sure you avoid implying causation from correlation!\n",
    "\n",
    "> **Tip**: Once you are satisfied with your work here, check over your report to make sure that it is satisfies all the areas of the rubric (found on the project submission page at the end of the lesson). You should also probably remove all of the \"Tips\" like this one so that the presentation is as polished as possible.\n",
    "\n",
    "## Submitting your Project \n",
    "\n",
    "> Before you submit your project, you need to create a .html or .pdf version of this notebook in the workspace here. To do that, run the code cell below. If it worked correctly, you should get a return code of 0, and you should see the generated .html file in the workspace directory (click on the orange Jupyter icon in the upper left).\n",
    "\n",
    "> Alternatively, you can download this report as .html via the **File** > **Download as** submenu, and then manually upload it into the workspace directory by clicking on the orange Jupyter icon in the upper left, then using the Upload button.\n",
    "\n",
    "> Once you've done this, you can submit your project by clicking on the \"Submit Project\" button in the lower right here. This will create and submit a zip file with this .ipynb doc and the .html or .pdf version you created. Congratulations!"
   ]
  },
  {
   "cell_type": "code",
   "execution_count": null,
   "metadata": {
    "collapsed": true
   },
   "outputs": [],
   "source": [
    "from subprocess import call\n",
    "call(['python', '-m', 'nbconvert', 'Investigate_a_Dataset.ipynb'])"
   ]
  },
  {
   "cell_type": "code",
   "execution_count": null,
   "metadata": {},
   "outputs": [],
   "source": []
  }
 ],
 "metadata": {
  "kernelspec": {
   "display_name": "Python 3",
   "language": "python",
   "name": "python3"
  },
  "language_info": {
   "codemirror_mode": {
    "name": "ipython",
    "version": 3
   },
   "file_extension": ".py",
   "mimetype": "text/x-python",
   "name": "python",
   "nbconvert_exporter": "python",
   "pygments_lexer": "ipython3",
   "version": "3.7.4"
  }
 },
 "nbformat": 4,
 "nbformat_minor": 2
}
