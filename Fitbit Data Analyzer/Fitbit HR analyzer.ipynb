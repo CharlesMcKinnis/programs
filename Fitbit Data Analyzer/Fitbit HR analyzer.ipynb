{
 "cells": [
  {
   "cell_type": "markdown",
   "metadata": {},
   "source": [
    "<h2>HR analysis</h2>"
   ]
  },
  {
   "cell_type": "code",
   "execution_count": null,
   "metadata": {},
   "outputs": [],
   "source": [
    "%matplotlib inline\n",
    "\n",
    "#You need the following modues, if you don't have them, use pip install <module-name>\n",
    "import requests\n",
    "import pandas as pd\n",
    "import matplotlib.pyplot as plt"
   ]
  },
  {
   "cell_type": "code",
   "execution_count": 2,
   "metadata": {},
   "outputs": [
    {
     "name": "stdout",
     "output_type": "stream",
     "text": [
      "day range :  ['2021-03-17', '2021-03-18', '2021-03-19', '2021-03-20', '2021-03-21']\n"
     ]
    }
   ],
   "source": [
    "import datetime\n",
    "\n",
    "#Update your start and end dates here in yyyy-mm-dd format \n",
    "start = datetime.datetime.strptime(\"2021-03-17\", \"%Y-%m-%d\")\n",
    "end = datetime.datetime.strptime(\"2021-03-22\", \"%Y-%m-%d\")\n",
    "\n",
    "date_array = (start + datetime.timedelta(days=x) for x in range(0, (end-start).days))\n",
    " \n",
    "day_list = []\n",
    "for date_object in date_array:\n",
    "    day_list.append(date_object.strftime(\"%Y-%m-%d\"))\n",
    "    \n",
    "print(\"day range : \",day_list)"
   ]
  },
  {
   "cell_type": "code",
   "execution_count": null,
   "metadata": {},
   "outputs": [],
   "source": [
    "df_all = pd.DataFrame()"
   ]
  },
  {
   "cell_type": "code",
   "execution_count": null,
   "metadata": {},
   "outputs": [],
   "source": [
    "# Implicit Grant Flow\n",
    "#Enter your OAuth token in place\n",
    "access_token = \"OAuth token here\"\n",
    "\n",
    "header = {'Authorization': 'Bearer {}'.format(access_token)}\n",
    "\n",
    "for single_day in day_list:\n",
    "    response = requests.get(\"https://api.fitbit.com/1/user/-/activities/heart/date/\"+ single_day +\"/1d/1sec/time/00:00/23:59.json\", headers=header).json()\n",
    "    df = pd.DataFrame(response['activities-heart-intraday']['dataset'])\n",
    "    date = pd.Timestamp(single_day).strftime('%Y-%m-%d')\n",
    "    df = df.set_index(pd.to_datetime(date + ' ' + df['time'].astype(str)))\n",
    "    #print(df)\n",
    "    df_all = df_all.append(df, sort=True)\n",
    "    \n",
    "del df_all['time']"
   ]
  },
  {
   "cell_type": "code",
   "execution_count": null,
   "metadata": {},
   "outputs": [],
   "source": [
    "#Put the interval you want to take the average of the imported data from fitbit with 2-5 sec interval. Default 10 minute\n",
    "summary_df = (df_all['value'].resample('10Min').mean())"
   ]
  },
  {
   "cell_type": "code",
   "execution_count": null,
   "metadata": {},
   "outputs": [],
   "source": [
    "plt.rcParams[\"figure.figsize\"]=20,8\n",
    "\n",
    "# Heart rate data summary [10min avg] from start date[2021-03-18] to end date[2021-03-21] \n",
    "#if you are using matplotlib directly in python ( py file ) then use plt.plot(summary_df,kind='area')\n",
    "summary_df.plot.area()"
   ]
  },
  {
   "cell_type": "code",
   "execution_count": null,
   "metadata": {},
   "outputs": [],
   "source": []
  },
  {
   "cell_type": "markdown",
   "metadata": {},
   "source": [
    "<h2>Sleep analysis</h2>"
   ]
  },
  {
   "cell_type": "code",
   "execution_count": null,
   "metadata": {},
   "outputs": [],
   "source": [
    "access_token = \"OAuth token here\"\n",
    "\n",
    "header = {'Authorization': 'Bearer {}'.format(access_token)}\n",
    "\n",
    "response = requests.get(\"https://api.fitbit.com/1.2/user/-/sleep/date/2021-03-18/2021-03-21.json\", headers=header).json()"
   ]
  },
  {
   "cell_type": "code",
   "execution_count": null,
   "metadata": {},
   "outputs": [],
   "source": [
    "combined_list = []\n",
    "for i in range(len(response['sleep'])):\n",
    "    result = response['sleep'][i]['levels']['summary']\n",
    "    nice_dict = {'day':response['sleep'][i]['dateOfSleep'], 'deep_minutes':response['sleep'][i]['levels']['summary']['deep']['minutes'], 'light_minutes':response['sleep'][i]['levels']['summary']['light']['minutes'], 'rem_minutes':response['sleep'][i]['levels']['summary']['rem']['minutes'], 'wake_minutes':response['sleep'][i]['levels']['summary']['wake']['minutes']}\n",
    "    combined_list.append(nice_dict)"
   ]
  },
  {
   "cell_type": "code",
   "execution_count": null,
   "metadata": {},
   "outputs": [],
   "source": [
    "sleep_df = pd.DataFrame(combined_list)"
   ]
  },
  {
   "cell_type": "code",
   "execution_count": null,
   "metadata": {},
   "outputs": [],
   "source": [
    "#Plotting data\n",
    "sleep_df.set_index('day').plot(kind = 'bar')"
   ]
  },
  {
   "cell_type": "code",
   "execution_count": null,
   "metadata": {},
   "outputs": [],
   "source": []
  }
 ],
 "metadata": {
  "kernelspec": {
   "display_name": "Python 3",
   "language": "python",
   "name": "python3"
  },
  "language_info": {
   "codemirror_mode": {
    "name": "ipython",
    "version": 3
   },
   "file_extension": ".py",
   "mimetype": "text/x-python",
   "name": "python",
   "nbconvert_exporter": "python",
   "pygments_lexer": "ipython3",
   "version": "3.7.4"
  }
 },
 "nbformat": 4,
 "nbformat_minor": 2
}
